{
 "cells": [
  {
   "attachments": {},
   "cell_type": "markdown",
   "id": "fa3a0477",
   "metadata": {},
   "source": [
    "# Import de news dans Elasticsearch\n",
    "Le jeu de données provient de https://www.kaggle.com/datasets/rmisra/news-category-dataset?resource=download.\n",
    "Il contient `210,294` news entre 2012 et 2022. Le format des news est le suivant : \n",
    "```\n",
    "{\n",
    "  \"link\": \"https://www.huffpost.com/entry/covid-boosters-uptake-us_n_632d719ee4b087fae6feaac9\",\n",
    "  \"headline\": \"Over 4 Million Americans Roll Up Sleeves For Omicron-Targeted COVID Boosters\",\n",
    "  \"category\": \"U.S. NEWS\",\n",
    "  \"short_description\": \"Health experts said it is too early to predict whether demand would match up with the 171 million doses of the new boosters the U.S. ordered for the fall.\",\n",
    "  \"authors\": \"Carla K. Johnson, AP\",\n",
    "  \"date\": \"2022-09-23\"\n",
    "}\n",
    "```\n",
    "\n",
    "L'objectif de ce notebook est d'importer ces données dans Elasticsearch afin de réaliser des recherches sémantiques basées sur l'utilisation de modèles de langage type BERT."
   ]
  },
  {
   "cell_type": "code",
   "execution_count": null,
   "id": "a9876858",
   "metadata": {},
   "outputs": [],
   "source": [
    "# Configuration\n",
    "import json # Pour lire le fichier JSON\n",
    "from opensearchpy import OpenSearch # API Python pour OpenSearch\n",
    "\n",
    "OS_HOST='localhost'\n",
    "OS_PORT=9200\n",
    "NEWS_JSON_PATH='../data/News_Category_Dataset_v3.json'\n",
    "INDEX_NAME='news'\n",
    "MAX_NEWS=10000 # Nombre maximum d'articles à indexer"
   ]
  },
  {
   "cell_type": "code",
   "execution_count": null,
   "id": "d67891ce",
   "metadata": {},
   "outputs": [],
   "source": [
    "# Ingestion des données\n",
    "def payload_constructor(data):\n",
    "    '''Coonstruction du payload pour l'indexation en masse'''\n",
    "    payload_string = ''\n",
    "    for datum in data:\n",
    "        action = {'index': {'_id': datum['link']}}\n",
    "        action_string = json.dumps(action) + '\\n'\n",
    "        payload_string += action_string\n",
    "        this_line = json.dumps(datum) + '\\n'\n",
    "        payload_string += this_line\n",
    "    return payload_string\n",
    "\n",
    "\n",
    "index_name = INDEX_NAME\n",
    "batch_size = 1000 # Nombre d'articles à indexer à chaque fois\n",
    "\n",
    "client = OpenSearch(\n",
    "    hosts=[{'host': 'localhost', 'port': 9200}],\n",
    "    http_compress=True,\n",
    ")\n",
    "\n",
    "with open(NEWS_JSON_PATH) as f:\n",
    "    lines = f.readlines()\n",
    "\n",
    "processed_lines = 0\n",
    "for start in range(0, len(lines), batch_size):\n",
    "    data = []\n",
    "    for line in lines[start:start+batch_size]:\n",
    "        data.append(json.loads(line))\n",
    "        processed_lines += 1\n",
    "    response = client.bulk(body=payload_constructor(data), index=index_name)\n",
    "    print(\"{} lines processed.\".format(processed_lines))\n",
    "    if processed_lines >= MAX_NEWS:\n",
    "        print('{} lines reached. Abort indexing'.format(MAX_NEWS))\n",
    "        break"
   ]
  },
  {
   "cell_type": "code",
   "execution_count": null,
   "id": "51b75bc1",
   "metadata": {},
   "outputs": [],
   "source": []
  }
 ],
 "metadata": {
  "kernelspec": {
   "display_name": ".env",
   "language": "python",
   "name": "python3"
  },
  "language_info": {
   "codemirror_mode": {
    "name": "ipython",
    "version": 3
   },
   "file_extension": ".py",
   "mimetype": "text/x-python",
   "name": "python",
   "nbconvert_exporter": "python",
   "pygments_lexer": "ipython3",
   "version": "3.9.7"
  },
  "vscode": {
   "interpreter": {
    "hash": "3f95831aa3115858516075b61e7bc0d7316a5f894521b375e5f6d3cac7a849e7"
   }
  }
 },
 "nbformat": 4,
 "nbformat_minor": 5
}
